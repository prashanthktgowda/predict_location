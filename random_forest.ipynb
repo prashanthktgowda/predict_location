{
 "cells": [
  {
   "cell_type": "code",
   "execution_count": 1,
   "id": "35d06c26-423d-4cc5-8e8c-7c303a5deb30",
   "metadata": {},
   "outputs": [],
   "source": [
    "import pandas as pd\n",
    "import numpy as np\n",
    "import os\n",
    "import re\n",
    "import pickle\n",
    "from sklearn.ensemble import RandomForestRegressor\n",
    "from sklearn.linear_model import Lasso\n",
    "from sklearn.feature_extraction.text import TfidfVectorizer\n",
    "from sklearn.model_selection import train_test_split, GridSearchCV\n",
    "from sklearn.metrics import mean_squared_error, mean_absolute_error, r2_score\n",
    "import nltk\n",
    "from nltk.corpus import stopwords\n",
    "from nltk.stem import WordNetLemmatizer\n"
   ]
  },
  {
   "cell_type": "code",
   "execution_count": 2,
   "id": "f2b89872-fc63-4b5d-b9c4-b8a56c78ef4a",
   "metadata": {},
   "outputs": [
    {
     "name": "stderr",
     "output_type": "stream",
     "text": [
      "[nltk_data] Downloading package punkt to\n",
      "[nltk_data]     C:\\Users\\hp\\AppData\\Roaming\\nltk_data...\n",
      "[nltk_data]   Package punkt is already up-to-date!\n",
      "[nltk_data] Downloading package wordnet to\n",
      "[nltk_data]     C:\\Users\\hp\\AppData\\Roaming\\nltk_data...\n",
      "[nltk_data]   Package wordnet is already up-to-date!\n",
      "[nltk_data] Downloading package stopwords to\n",
      "[nltk_data]     C:\\Users\\hp\\AppData\\Roaming\\nltk_data...\n",
      "[nltk_data]   Package stopwords is already up-to-date!\n"
     ]
    },
    {
     "data": {
      "text/plain": [
       "True"
      ]
     },
     "execution_count": 2,
     "metadata": {},
     "output_type": "execute_result"
    }
   ],
   "source": [
    "#Required NTKL\n",
    "nltk.download('punkt')\n",
    "nltk.download('wordnet')\n",
    "nltk.download('stopwords')"
   ]
  },
  {
   "cell_type": "code",
   "execution_count": 3,
   "id": "b020038b-4721-415c-99bc-61bf0bd29bc6",
   "metadata": {},
   "outputs": [],
   "source": [
    "data = pd.read_csv('dataset.csv', delimiter=',', on_bad_lines='skip')"
   ]
  },
  {
   "cell_type": "code",
   "execution_count": 4,
   "id": "236bfe08-2a56-41d8-a838-56f7f84f0fd7",
   "metadata": {},
   "outputs": [],
   "source": [
    "data.dropna(inplace=True)"
   ]
  },
  {
   "cell_type": "code",
   "execution_count": 5,
   "id": "4b72e398-3f32-4730-ad2b-323639719ad3",
   "metadata": {},
   "outputs": [
    {
     "name": "stderr",
     "output_type": "stream",
     "text": [
      "C:\\Users\\hp\\AppData\\Local\\Temp\\ipykernel_18700\\4135292433.py:1: FutureWarning: A value is trying to be set on a copy of a DataFrame or Series through chained assignment using an inplace method.\n",
      "The behavior will change in pandas 3.0. This inplace method will never work because the intermediate object on which we are setting values always behaves as a copy.\n",
      "\n",
      "For example, when doing 'df[col].method(value, inplace=True)', try using 'df.method({col: value}, inplace=True)' or df[col] = df[col].method(value) instead, to perform the operation inplace on the original object.\n",
      "\n",
      "\n",
      "  data['area_name'].fillna(data['city'], inplace=True)\n"
     ]
    }
   ],
   "source": [
    "data['area_name'].fillna(data['city'], inplace=True)\n"
   ]
  },
  {
   "cell_type": "code",
   "execution_count": 6,
   "id": "43424177-71e4-43e8-a78f-96e052ee2057",
   "metadata": {},
   "outputs": [],
   "source": [
    "# prompt: remove numericals from area_name\n",
    "\n",
    "data['area_name'] = data['area_name'].apply(lambda x: re.sub(r'\\d+', '', str(x)))\n",
    "data[\"area_name\"] = data[\"area_name\"].str.replace(\"/\",\"\").replace(\"+\",\"\").replace(\"-\",\" \").replace(\"  \",\" \").replace(\"-nd\",\"\")\n",
    "data['area_name'] = data['area_name'].str.lstrip()"
   ]
  },
  {
   "cell_type": "code",
   "execution_count": 7,
   "id": "04295062-74f4-448a-9593-7fe0b0ba8f07",
   "metadata": {},
   "outputs": [
    {
     "data": {
      "text/html": [
       "<div>\n",
       "<style scoped>\n",
       "    .dataframe tbody tr th:only-of-type {\n",
       "        vertical-align: middle;\n",
       "    }\n",
       "\n",
       "    .dataframe tbody tr th {\n",
       "        vertical-align: top;\n",
       "    }\n",
       "\n",
       "    .dataframe thead th {\n",
       "        text-align: right;\n",
       "    }\n",
       "</style>\n",
       "<table border=\"1\" class=\"dataframe\">\n",
       "  <thead>\n",
       "    <tr style=\"text-align: right;\">\n",
       "      <th></th>\n",
       "      <th>area_name</th>\n",
       "      <th>city</th>\n",
       "      <th>state</th>\n",
       "      <th>pincode</th>\n",
       "      <th>latitude</th>\n",
       "      <th>longitude</th>\n",
       "    </tr>\n",
       "  </thead>\n",
       "  <tbody>\n",
       "    <tr>\n",
       "      <th>0</th>\n",
       "      <td>Doctor Rajkumar Road, nd Stage, Rajajinagar</td>\n",
       "      <td>Bengaluru</td>\n",
       "      <td>Karnataka</td>\n",
       "      <td>560055</td>\n",
       "      <td>13.006378</td>\n",
       "      <td>77.554236</td>\n",
       "    </tr>\n",
       "    <tr>\n",
       "      <th>1</th>\n",
       "      <td>Sampige Road, Malleshwaram</td>\n",
       "      <td>Bengaluru</td>\n",
       "      <td>Karnataka</td>\n",
       "      <td>560055</td>\n",
       "      <td>13.003064</td>\n",
       "      <td>77.571141</td>\n",
       "    </tr>\n",
       "    <tr>\n",
       "      <th>3</th>\n",
       "      <td>KG Halli, D' Souza Layout, Sampangi Rama Nagar</td>\n",
       "      <td>Bengaluru</td>\n",
       "      <td>Karnataka</td>\n",
       "      <td>560001</td>\n",
       "      <td>12.971590</td>\n",
       "      <td>77.596058</td>\n",
       "    </tr>\n",
       "    <tr>\n",
       "      <th>4</th>\n",
       "      <td>Bannerghatta Road, Arakere Gate, Omkar Nagar, ...</td>\n",
       "      <td>Bengaluru</td>\n",
       "      <td>Karnataka</td>\n",
       "      <td>560076</td>\n",
       "      <td>12.890909</td>\n",
       "      <td>77.596770</td>\n",
       "    </tr>\n",
       "    <tr>\n",
       "      <th>7</th>\n",
       "      <td>rd Phase, J. P. Nagar</td>\n",
       "      <td>Bengaluru</td>\n",
       "      <td>Karnataka</td>\n",
       "      <td>560078</td>\n",
       "      <td>12.914233</td>\n",
       "      <td>77.599332</td>\n",
       "    </tr>\n",
       "  </tbody>\n",
       "</table>\n",
       "</div>"
      ],
      "text/plain": [
       "                                           area_name       city      state  \\\n",
       "0        Doctor Rajkumar Road, nd Stage, Rajajinagar  Bengaluru  Karnataka   \n",
       "1                         Sampige Road, Malleshwaram  Bengaluru  Karnataka   \n",
       "3     KG Halli, D' Souza Layout, Sampangi Rama Nagar  Bengaluru  Karnataka   \n",
       "4  Bannerghatta Road, Arakere Gate, Omkar Nagar, ...  Bengaluru  Karnataka   \n",
       "7                              rd Phase, J. P. Nagar  Bengaluru  Karnataka   \n",
       "\n",
       "  pincode   latitude  longitude  \n",
       "0  560055  13.006378  77.554236  \n",
       "1  560055  13.003064  77.571141  \n",
       "3  560001  12.971590  77.596058  \n",
       "4  560076  12.890909  77.596770  \n",
       "7  560078  12.914233  77.599332  "
      ]
     },
     "execution_count": 7,
     "metadata": {},
     "output_type": "execute_result"
    }
   ],
   "source": [
    "data.head()"
   ]
  },
  {
   "cell_type": "code",
   "execution_count": 8,
   "id": "6922e1f4-fe05-4ee3-8fd9-acf369182136",
   "metadata": {},
   "outputs": [],
   "source": [
    "punctuation_signs = list(\"?:!.,;\")\n",
    "wordnet_lemmatizer = WordNetLemmatizer()\n",
    "stop_words = set(stopwords.words('english'))\n",
    "\n",
    "data['area_name'] = data['area_name'].str.replace(\"\\r\", \"\").replace(\"\\n\", \" \").replace(\"+\", \"\").replace(\"/\", \" \").replace(\"    \", \" \").replace('\"', '').str.lower()\n",
    "for punct_sign in punctuation_signs:\n",
    "    data['area_name'] = data['area_name'].str.replace(punct_sign, '')\n"
   ]
  },
  {
   "cell_type": "code",
   "execution_count": 9,
   "id": "2c8bc5c1-900b-4d65-ad11-106d8f2d44c4",
   "metadata": {},
   "outputs": [],
   "source": [
    "data['Full_Address'] = (data['area_name'] + \" \" + data['city'] + \" \" + data['state']).str.lower()\n",
    "\n",
    "# Create new features from the address\n",
    "data['address_length'] = data['Full_Address'].apply(lambda x: len(x.split()))\n",
    "data['num_special_chars'] = data['Full_Address'].apply(lambda x: sum(not c.isalnum() for c in x))\n",
    "\n",
    "# Example of other possible features\n",
    "# Count the number of numeric characters\n",
    "data['num_numeric'] = data['Full_Address'].apply(lambda x: sum(c.isdigit() for c in x))\n",
    "\n"
   ]
  },
  {
   "cell_type": "code",
   "execution_count": 10,
   "id": "11242982-0537-4552-9e70-342e977c4f82",
   "metadata": {},
   "outputs": [],
   "source": [
    "X = data['Full_Address']  # Feature: Full address\n",
    "y = data[['latitude', 'longitude']]  # Target: Latitude and Longitude"
   ]
  },
  {
   "cell_type": "code",
   "execution_count": 11,
   "id": "78625826-96dc-4cc0-a2f9-fec3a8be6983",
   "metadata": {},
   "outputs": [
    {
     "data": {
      "text/plain": [
       "area_name            0\n",
       "city                 0\n",
       "state                0\n",
       "pincode              0\n",
       "latitude             0\n",
       "longitude            0\n",
       "Full_Address         0\n",
       "address_length       0\n",
       "num_special_chars    0\n",
       "num_numeric          0\n",
       "dtype: int64"
      ]
     },
     "execution_count": 11,
     "metadata": {},
     "output_type": "execute_result"
    }
   ],
   "source": [
    "data.isna().sum()"
   ]
  },
  {
   "cell_type": "code",
   "execution_count": 12,
   "id": "7340128e-f7ba-429b-8ce1-abd271f8c0ff",
   "metadata": {},
   "outputs": [
    {
     "name": "stdout",
     "output_type": "stream",
     "text": [
      "24914    khan bahadur abdul rehman road austin town nee...\n",
      "24915                      rajajinagar bengaluru karnataka\n",
      "24920    commercial street tasker town shivaji nagar be...\n",
      "24921    dispensary road tasker town shivaji nagar beng...\n",
      "24925    nd e cross road opp sanjay gandhi hospital th ...\n",
      "Name: Full_Address, dtype: object\n"
     ]
    }
   ],
   "source": [
    "# Check if Full_Address column exists and is in the correct form\n",
    "print(data['Full_Address'].tail())\n"
   ]
  },
  {
   "cell_type": "code",
   "execution_count": 13,
   "id": "9641e1dc-259a-4a5d-9e9b-9c028fd1dcf8",
   "metadata": {},
   "outputs": [
    {
     "name": "stdout",
     "output_type": "stream",
     "text": [
      "(15788, 10)\n"
     ]
    }
   ],
   "source": [
    "# prompt: data size\n",
    "\n",
    "print(data.shape)\n"
   ]
  },
  {
   "cell_type": "code",
   "execution_count": 14,
   "id": "99ebffaf-b3ca-4b14-940c-68db6cce1803",
   "metadata": {},
   "outputs": [],
   "source": [
    "from sklearn.feature_extraction.text import TfidfVectorizer\n",
    "\n",
    "# Initialize the vectorizer\n",
    "tfidf_vectorizer = TfidfVectorizer(stop_words='english', max_features=5000, ngram_range=(1,2))\n",
    "\n",
    "# Transform the address data into vector form\n",
    "X_tfidf = tfidf_vectorizer.fit_transform(data['Full_Address'])\n"
   ]
  },
  {
   "cell_type": "code",
   "execution_count": 15,
   "id": "e1afd98b-6663-48d6-ad75-bea0dff51b42",
   "metadata": {},
   "outputs": [
    {
     "name": "stdout",
     "output_type": "stream",
     "text": [
      "(15788, 5000)\n",
      "(15788, 2)\n"
     ]
    }
   ],
   "source": [
    "# prompt: print the shape of x and y\n",
    "\n",
    "print(X_tfidf.shape)\n",
    "print(y.shape)\n"
   ]
  },
  {
   "cell_type": "code",
   "execution_count": 16,
   "id": "e7b0af43-7fa3-4473-8987-7827bf60a962",
   "metadata": {},
   "outputs": [
    {
     "name": "stdout",
     "output_type": "stream",
     "text": [
      "Random Forest - Mean Absolute Error: 0.04161325973106338\n",
      "Random Forest - Mean Squared Error: 0.05337668139892558\n",
      "Random Forest - R-squared: 0.987276413895884\n"
     ]
    }
   ],
   "source": [
    "from sklearn.model_selection import train_test_split\n",
    "from sklearn.ensemble import RandomForestRegressor\n",
    "from sklearn.metrics import mean_absolute_error, mean_squared_error, r2_score\n",
    "\n",
    "# Assuming 'y' is your target variable (latitude/longitude)\n",
    "X_train, X_test, y_train, y_test = train_test_split(X_tfidf, y, test_size=0.2, random_state=42)\n",
    "\n",
    "# Train Random Forest Model\n",
    "rf_model = RandomForestRegressor(n_estimators=200, random_state=42)\n",
    "rf_model.fit(X_train, y_train)\n",
    "\n",
    "# Make predictions\n",
    "y_pred = rf_model.predict(X_test)\n",
    "\n",
    "# Evaluate the model\n",
    "mae = mean_absolute_error(y_test, y_pred)\n",
    "mse = mean_squared_error(y_test, y_pred)\n",
    "r2 = r2_score(y_test, y_pred)\n",
    "\n",
    "print(f\"Random Forest - Mean Absolute Error: {mae}\")\n",
    "print(f\"Random Forest - Mean Squared Error: {mse}\")\n",
    "print(f\"Random Forest - R-squared: {r2}\")\n"
   ]
  },
  {
   "cell_type": "code",
   "execution_count": 17,
   "id": "6242bbbc-bfba-4d3e-ad9e-5a2f9046ffaa",
   "metadata": {},
   "outputs": [
    {
     "name": "stdout",
     "output_type": "stream",
     "text": [
      "Predicted Latitude and Longitude for 'banashankari bengaluru karnataka': [12.9379496 77.5579457]\n"
     ]
    }
   ],
   "source": [
    "def predict_lat_long(address):\n",
    "    # Vectorize the new address\n",
    "    address_vectorized = tfidf_vectorizer.transform([address])\n",
    "    \n",
    "    # Predict latitude and longitude\n",
    "    prediction = rf_model.predict(address_vectorized)\n",
    "    \n",
    "    return prediction[0]\n",
    "\n",
    "# Test the function with a new address\n",
    "new_address = \"banashankari bengaluru karnataka\"\n",
    "predicted_lat_long = predict_lat_long(new_address)\n",
    "print(f\"Predicted Latitude and Longitude for '{new_address}': {predicted_lat_long}\")"
   ]
  },
  {
   "cell_type": "code",
   "execution_count": null,
   "id": "8c06ed9c-1ec0-4a23-92b2-20c66b543f6d",
   "metadata": {},
   "outputs": [],
   "source": []
  }
 ],
 "metadata": {
  "kernelspec": {
   "display_name": "Python 3 (ipykernel)",
   "language": "python",
   "name": "python3"
  },
  "language_info": {
   "codemirror_mode": {
    "name": "ipython",
    "version": 3
   },
   "file_extension": ".py",
   "mimetype": "text/x-python",
   "name": "python",
   "nbconvert_exporter": "python",
   "pygments_lexer": "ipython3",
   "version": "3.12.4"
  }
 },
 "nbformat": 4,
 "nbformat_minor": 5
}
